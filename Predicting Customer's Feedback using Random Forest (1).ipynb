{
 "cells": [
  {
   "cell_type": "markdown",
   "metadata": {},
   "source": [
    "# Project:  Sentiment Analysis with RF\n",
    "\n",
    "## Table of Contents\n",
    "\n",
    "<ul>\n",
    "<li><a href=\"#PS\">Problem Statement</a></li>\n",
    "<li><a href=\"#DG\">Data Gathering</a></li>\n",
    "<li><a href=\"#A&C\">Assessing & Cleaning</a></li>\n",
    "<li><a href=\"#SP\">Splitting & Data Modeling</a></li>\n",
    "</ul>"
   ]
  },
  {
   "cell_type": "markdown",
   "metadata": {},
   "source": [
    "<a id=\"PS\"><a/>\n",
    "# Problem Statement\n",
    "\n",
    ">Building a model that can classify the sentimental feedback of a customer based on his review for a certain book."
   ]
  },
  {
   "cell_type": "markdown",
   "metadata": {},
   "source": [
    "<a id=\"DG\"><a/>\n",
    "# Data Gathering"
   ]
  },
  {
   "cell_type": "code",
   "execution_count": 1,
   "metadata": {},
   "outputs": [],
   "source": [
    "import pandas as pd\n",
    "% matplotlib inline "
   ]
  },
  {
   "cell_type": "code",
   "execution_count": 2,
   "metadata": {},
   "outputs": [],
   "source": [
    "df = pd.read_csv(r'E:\\all_kindle_review.csv')"
   ]
  },
  {
   "cell_type": "code",
   "execution_count": 3,
   "metadata": {},
   "outputs": [
    {
     "data": {
      "text/html": [
       "<div>\n",
       "<style scoped>\n",
       "    .dataframe tbody tr th:only-of-type {\n",
       "        vertical-align: middle;\n",
       "    }\n",
       "\n",
       "    .dataframe tbody tr th {\n",
       "        vertical-align: top;\n",
       "    }\n",
       "\n",
       "    .dataframe thead th {\n",
       "        text-align: right;\n",
       "    }\n",
       "</style>\n",
       "<table border=\"1\" class=\"dataframe\">\n",
       "  <thead>\n",
       "    <tr style=\"text-align: right;\">\n",
       "      <th></th>\n",
       "      <th>Unnamed: 0</th>\n",
       "      <th>Unnamed: 0.1</th>\n",
       "      <th>asin</th>\n",
       "      <th>helpful</th>\n",
       "      <th>rating</th>\n",
       "      <th>reviewText</th>\n",
       "      <th>reviewTime</th>\n",
       "      <th>reviewerID</th>\n",
       "      <th>reviewerName</th>\n",
       "      <th>summary</th>\n",
       "      <th>unixReviewTime</th>\n",
       "    </tr>\n",
       "  </thead>\n",
       "  <tbody>\n",
       "    <tr>\n",
       "      <th>0</th>\n",
       "      <td>0</td>\n",
       "      <td>11539</td>\n",
       "      <td>B0033UV8HI</td>\n",
       "      <td>[8, 10]</td>\n",
       "      <td>3</td>\n",
       "      <td>Jace Rankin may be short, but he's nothing to ...</td>\n",
       "      <td>09 2, 2010</td>\n",
       "      <td>A3HHXRELK8BHQG</td>\n",
       "      <td>Ridley</td>\n",
       "      <td>Entertaining But Average</td>\n",
       "      <td>1283385600</td>\n",
       "    </tr>\n",
       "    <tr>\n",
       "      <th>1</th>\n",
       "      <td>1</td>\n",
       "      <td>5957</td>\n",
       "      <td>B002HJV4DE</td>\n",
       "      <td>[1, 1]</td>\n",
       "      <td>5</td>\n",
       "      <td>Great short read.  I didn't want to put it dow...</td>\n",
       "      <td>10 8, 2013</td>\n",
       "      <td>A2RGNZ0TRF578I</td>\n",
       "      <td>Holly Butler</td>\n",
       "      <td>Terrific menage scenes!</td>\n",
       "      <td>1381190400</td>\n",
       "    </tr>\n",
       "    <tr>\n",
       "      <th>2</th>\n",
       "      <td>2</td>\n",
       "      <td>9146</td>\n",
       "      <td>B002ZG96I4</td>\n",
       "      <td>[0, 0]</td>\n",
       "      <td>3</td>\n",
       "      <td>I'll start by saying this is the first of four...</td>\n",
       "      <td>04 11, 2014</td>\n",
       "      <td>A3S0H2HV6U1I7F</td>\n",
       "      <td>Merissa</td>\n",
       "      <td>Snapdragon Alley</td>\n",
       "      <td>1397174400</td>\n",
       "    </tr>\n",
       "    <tr>\n",
       "      <th>3</th>\n",
       "      <td>3</td>\n",
       "      <td>7038</td>\n",
       "      <td>B002QHWOEU</td>\n",
       "      <td>[1, 3]</td>\n",
       "      <td>3</td>\n",
       "      <td>Aggie is Angela Lansbury who carries pocketboo...</td>\n",
       "      <td>07 5, 2014</td>\n",
       "      <td>AC4OQW3GZ919J</td>\n",
       "      <td>Cleargrace</td>\n",
       "      <td>very light murder cozy</td>\n",
       "      <td>1404518400</td>\n",
       "    </tr>\n",
       "    <tr>\n",
       "      <th>4</th>\n",
       "      <td>4</td>\n",
       "      <td>1776</td>\n",
       "      <td>B001A06VJ8</td>\n",
       "      <td>[0, 1]</td>\n",
       "      <td>4</td>\n",
       "      <td>I did not expect this type of book to be in li...</td>\n",
       "      <td>12 31, 2012</td>\n",
       "      <td>A3C9V987IQHOQD</td>\n",
       "      <td>Rjostler</td>\n",
       "      <td>Book</td>\n",
       "      <td>1356912000</td>\n",
       "    </tr>\n",
       "  </tbody>\n",
       "</table>\n",
       "</div>"
      ],
      "text/plain": [
       "   Unnamed: 0  Unnamed: 0.1        asin  helpful  rating  \\\n",
       "0           0         11539  B0033UV8HI  [8, 10]       3   \n",
       "1           1          5957  B002HJV4DE   [1, 1]       5   \n",
       "2           2          9146  B002ZG96I4   [0, 0]       3   \n",
       "3           3          7038  B002QHWOEU   [1, 3]       3   \n",
       "4           4          1776  B001A06VJ8   [0, 1]       4   \n",
       "\n",
       "                                          reviewText   reviewTime  \\\n",
       "0  Jace Rankin may be short, but he's nothing to ...   09 2, 2010   \n",
       "1  Great short read.  I didn't want to put it dow...   10 8, 2013   \n",
       "2  I'll start by saying this is the first of four...  04 11, 2014   \n",
       "3  Aggie is Angela Lansbury who carries pocketboo...   07 5, 2014   \n",
       "4  I did not expect this type of book to be in li...  12 31, 2012   \n",
       "\n",
       "       reviewerID  reviewerName                   summary  unixReviewTime  \n",
       "0  A3HHXRELK8BHQG        Ridley  Entertaining But Average      1283385600  \n",
       "1  A2RGNZ0TRF578I  Holly Butler   Terrific menage scenes!      1381190400  \n",
       "2  A3S0H2HV6U1I7F       Merissa          Snapdragon Alley      1397174400  \n",
       "3   AC4OQW3GZ919J    Cleargrace    very light murder cozy      1404518400  \n",
       "4  A3C9V987IQHOQD      Rjostler                      Book      1356912000  "
      ]
     },
     "execution_count": 3,
     "metadata": {},
     "output_type": "execute_result"
    }
   ],
   "source": [
    "#displaying the frist rows of the data\n",
    "df.head()"
   ]
  },
  {
   "cell_type": "markdown",
   "metadata": {},
   "source": [
    "<a id='A&C'><a/>\n",
    "# Data Assessing & Cleaning"
   ]
  },
  {
   "cell_type": "code",
   "execution_count": 4,
   "metadata": {},
   "outputs": [
    {
     "name": "stdout",
     "output_type": "stream",
     "text": [
      "<class 'pandas.core.frame.DataFrame'>\n",
      "RangeIndex: 12000 entries, 0 to 11999\n",
      "Data columns (total 11 columns):\n",
      " #   Column          Non-Null Count  Dtype \n",
      "---  ------          --------------  ----- \n",
      " 0   Unnamed: 0      12000 non-null  int64 \n",
      " 1   Unnamed: 0.1    12000 non-null  int64 \n",
      " 2   asin            12000 non-null  object\n",
      " 3   helpful         12000 non-null  object\n",
      " 4   rating          12000 non-null  int64 \n",
      " 5   reviewText      12000 non-null  object\n",
      " 6   reviewTime      12000 non-null  object\n",
      " 7   reviewerID      12000 non-null  object\n",
      " 8   reviewerName    11962 non-null  object\n",
      " 9   summary         12000 non-null  object\n",
      " 10  unixReviewTime  12000 non-null  int64 \n",
      "dtypes: int64(4), object(7)\n",
      "memory usage: 1.0+ MB\n"
     ]
    }
   ],
   "source": [
    "df.info()"
   ]
  },
  {
   "cell_type": "code",
   "execution_count": 5,
   "metadata": {},
   "outputs": [],
   "source": [
    "#droping all the unneeded columns in our dataset\n",
    "df = df.drop(['Unnamed: 0','Unnamed: 0.1','asin','helpful','reviewTime','reviewerID','reviewerName','unixReviewTime'], axis=1)\n"
   ]
  },
  {
   "cell_type": "code",
   "execution_count": 6,
   "metadata": {},
   "outputs": [
    {
     "data": {
      "text/html": [
       "<div>\n",
       "<style scoped>\n",
       "    .dataframe tbody tr th:only-of-type {\n",
       "        vertical-align: middle;\n",
       "    }\n",
       "\n",
       "    .dataframe tbody tr th {\n",
       "        vertical-align: top;\n",
       "    }\n",
       "\n",
       "    .dataframe thead th {\n",
       "        text-align: right;\n",
       "    }\n",
       "</style>\n",
       "<table border=\"1\" class=\"dataframe\">\n",
       "  <thead>\n",
       "    <tr style=\"text-align: right;\">\n",
       "      <th></th>\n",
       "      <th>rating</th>\n",
       "      <th>reviewText</th>\n",
       "      <th>summary</th>\n",
       "    </tr>\n",
       "  </thead>\n",
       "  <tbody>\n",
       "    <tr>\n",
       "      <th>0</th>\n",
       "      <td>3</td>\n",
       "      <td>Jace Rankin may be short, but he's nothing to ...</td>\n",
       "      <td>Entertaining But Average</td>\n",
       "    </tr>\n",
       "    <tr>\n",
       "      <th>1</th>\n",
       "      <td>5</td>\n",
       "      <td>Great short read.  I didn't want to put it dow...</td>\n",
       "      <td>Terrific menage scenes!</td>\n",
       "    </tr>\n",
       "    <tr>\n",
       "      <th>2</th>\n",
       "      <td>3</td>\n",
       "      <td>I'll start by saying this is the first of four...</td>\n",
       "      <td>Snapdragon Alley</td>\n",
       "    </tr>\n",
       "    <tr>\n",
       "      <th>3</th>\n",
       "      <td>3</td>\n",
       "      <td>Aggie is Angela Lansbury who carries pocketboo...</td>\n",
       "      <td>very light murder cozy</td>\n",
       "    </tr>\n",
       "    <tr>\n",
       "      <th>4</th>\n",
       "      <td>4</td>\n",
       "      <td>I did not expect this type of book to be in li...</td>\n",
       "      <td>Book</td>\n",
       "    </tr>\n",
       "  </tbody>\n",
       "</table>\n",
       "</div>"
      ],
      "text/plain": [
       "   rating                                         reviewText  \\\n",
       "0       3  Jace Rankin may be short, but he's nothing to ...   \n",
       "1       5  Great short read.  I didn't want to put it dow...   \n",
       "2       3  I'll start by saying this is the first of four...   \n",
       "3       3  Aggie is Angela Lansbury who carries pocketboo...   \n",
       "4       4  I did not expect this type of book to be in li...   \n",
       "\n",
       "                    summary  \n",
       "0  Entertaining But Average  \n",
       "1   Terrific menage scenes!  \n",
       "2          Snapdragon Alley  \n",
       "3    very light murder cozy  \n",
       "4                      Book  "
      ]
     },
     "execution_count": 6,
     "metadata": {},
     "output_type": "execute_result"
    }
   ],
   "source": [
    "df.head()"
   ]
  },
  {
   "cell_type": "code",
   "execution_count": 7,
   "metadata": {},
   "outputs": [
    {
     "data": {
      "text/plain": [
       "'Jace Rankin may be short, but he\\'s nothing to mess with, as the man who was just hauled out of the saloon by the undertaker knows now. He\\'s a famous bounty hunter in Oregon in the 1890s who, when he shot the man in the saloon, just finished a years long quest to avenge his sister\\'s murder and is now trying to figure out what to do next. When the snotty-nosed farm boy he just rescued from a gang of bullies offers him money to kill a man who forced him off his ranch, he reluctantly agrees to bring the man to justice, but not to kill him outright. But, first he needs to tell his sister\\'s widower the news.Kyla \"Kyle\" Springer Bailey has been riding the trails and sleeping on the ground for the past month while trying to find Jace. She wants revenge on the man who killed her husband and took her ranch, amongst other crimes, and she\\'s not so keen on the detour Jace wants to take. But she realizes she\\'s out of options, so she hides behind her boy persona as best she can and tries to keep pace. When a confrontation along the way gets her shot and Jace discovers that Kyle\\'s a Kyla, she has to come clean about the *whole* reason she needs this scoundrel dead and hope he\\'ll still help her.The book has its share of touching moments and slow-blooming romance. Kyla, we find out, has good reason to fear men and hide behind a boy\\'s persona. Watching Jace slowly pull her out of that shell and help her conquer her fears was endearing. Her pain was real and deeply-rooted and didn\\'t just disappear in the face of his sexiness. Neither did his understandable aversion to marriage magically disappear after a round of nookie. Why would a man who\\'s drifted from town to town for his entire adult life - a man who\\'s killed his fair share of men along the way - feel he\\'d make a good husband or father? They\\'re both the walking wounded and in a unique position to help each other, they just need time to realize it.However, while it was packed to bursting with my favorite themes - Old West setting, a heroine passing as male, a morally ambiguous hero, wounded souls, road romance, the kitchen sink - there was a certain...distance in the writing that kept me from getting carried away. Both characters were distinct and fully-formed and I couldn\\'t point to any glaring instances of bland telling or anything, I just never felt really invested. I enjoyed it quite a bit, as it was an exciting trip, but I was watching them from far away. I definitely wasn\\'t on the run alongside them. Add on a hasty and too tidy ending, and the book left me feeling a bit less than completely satisfied.I enjoyed the book, but I can\\'t say it was above average. I\\'d still read another book by the author.Note: I read the re-released ebook version and noticed there were a lot of formatting errors and missing words. I had to mentally edit as I read for some sentences to make sense. It wasn\\'t too too bad, but it was a little distracting.'"
      ]
     },
     "execution_count": 7,
     "metadata": {},
     "output_type": "execute_result"
    }
   ],
   "source": [
    "#displaying the text to see what it contains\n",
    "df['reviewText'][0]"
   ]
  },
  {
   "cell_type": "markdown",
   "metadata": {},
   "source": [
    "### We could leverage more context by merging reviewText column with summary."
   ]
  },
  {
   "cell_type": "code",
   "execution_count": 8,
   "metadata": {},
   "outputs": [
    {
     "data": {
      "text/plain": [
       "'Jace Rankin may be short, but he\\'s nothing to mess with, as the man who was just hauled out of the saloon by the undertaker knows now. He\\'s a famous bounty hunter in Oregon in the 1890s who, when he shot the man in the saloon, just finished a years long quest to avenge his sister\\'s murder and is now trying to figure out what to do next. When the snotty-nosed farm boy he just rescued from a gang of bullies offers him money to kill a man who forced him off his ranch, he reluctantly agrees to bring the man to justice, but not to kill him outright. But, first he needs to tell his sister\\'s widower the news.Kyla \"Kyle\" Springer Bailey has been riding the trails and sleeping on the ground for the past month while trying to find Jace. She wants revenge on the man who killed her husband and took her ranch, amongst other crimes, and she\\'s not so keen on the detour Jace wants to take. But she realizes she\\'s out of options, so she hides behind her boy persona as best she can and tries to keep pace. When a confrontation along the way gets her shot and Jace discovers that Kyle\\'s a Kyla, she has to come clean about the *whole* reason she needs this scoundrel dead and hope he\\'ll still help her.The book has its share of touching moments and slow-blooming romance. Kyla, we find out, has good reason to fear men and hide behind a boy\\'s persona. Watching Jace slowly pull her out of that shell and help her conquer her fears was endearing. Her pain was real and deeply-rooted and didn\\'t just disappear in the face of his sexiness. Neither did his understandable aversion to marriage magically disappear after a round of nookie. Why would a man who\\'s drifted from town to town for his entire adult life - a man who\\'s killed his fair share of men along the way - feel he\\'d make a good husband or father? They\\'re both the walking wounded and in a unique position to help each other, they just need time to realize it.However, while it was packed to bursting with my favorite themes - Old West setting, a heroine passing as male, a morally ambiguous hero, wounded souls, road romance, the kitchen sink - there was a certain...distance in the writing that kept me from getting carried away. Both characters were distinct and fully-formed and I couldn\\'t point to any glaring instances of bland telling or anything, I just never felt really invested. I enjoyed it quite a bit, as it was an exciting trip, but I was watching them from far away. I definitely wasn\\'t on the run alongside them. Add on a hasty and too tidy ending, and the book left me feeling a bit less than completely satisfied.I enjoyed the book, but I can\\'t say it was above average. I\\'d still read another book by the author.Note: I read the re-released ebook version and noticed there were a lot of formatting errors and missing words. I had to mentally edit as I read for some sentences to make sense. It wasn\\'t too too bad, but it was a little distracting. Entertaining But Average'"
      ]
     },
     "execution_count": 8,
     "metadata": {},
     "output_type": "execute_result"
    }
   ],
   "source": [
    "df['review'] = df['reviewText'] + \" \" + df['summary']\n",
    "df['review'][0]"
   ]
  },
  {
   "cell_type": "code",
   "execution_count": 9,
   "metadata": {},
   "outputs": [
    {
     "data": {
      "text/html": [
       "<div>\n",
       "<style scoped>\n",
       "    .dataframe tbody tr th:only-of-type {\n",
       "        vertical-align: middle;\n",
       "    }\n",
       "\n",
       "    .dataframe tbody tr th {\n",
       "        vertical-align: top;\n",
       "    }\n",
       "\n",
       "    .dataframe thead th {\n",
       "        text-align: right;\n",
       "    }\n",
       "</style>\n",
       "<table border=\"1\" class=\"dataframe\">\n",
       "  <thead>\n",
       "    <tr style=\"text-align: right;\">\n",
       "      <th></th>\n",
       "      <th>rating</th>\n",
       "      <th>reviewText</th>\n",
       "      <th>summary</th>\n",
       "      <th>review</th>\n",
       "    </tr>\n",
       "  </thead>\n",
       "  <tbody>\n",
       "    <tr>\n",
       "      <th>0</th>\n",
       "      <td>3</td>\n",
       "      <td>Jace Rankin may be short, but he's nothing to ...</td>\n",
       "      <td>Entertaining But Average</td>\n",
       "      <td>Jace Rankin may be short, but he's nothing to ...</td>\n",
       "    </tr>\n",
       "    <tr>\n",
       "      <th>1</th>\n",
       "      <td>5</td>\n",
       "      <td>Great short read.  I didn't want to put it dow...</td>\n",
       "      <td>Terrific menage scenes!</td>\n",
       "      <td>Great short read.  I didn't want to put it dow...</td>\n",
       "    </tr>\n",
       "    <tr>\n",
       "      <th>2</th>\n",
       "      <td>3</td>\n",
       "      <td>I'll start by saying this is the first of four...</td>\n",
       "      <td>Snapdragon Alley</td>\n",
       "      <td>I'll start by saying this is the first of four...</td>\n",
       "    </tr>\n",
       "    <tr>\n",
       "      <th>3</th>\n",
       "      <td>3</td>\n",
       "      <td>Aggie is Angela Lansbury who carries pocketboo...</td>\n",
       "      <td>very light murder cozy</td>\n",
       "      <td>Aggie is Angela Lansbury who carries pocketboo...</td>\n",
       "    </tr>\n",
       "    <tr>\n",
       "      <th>4</th>\n",
       "      <td>4</td>\n",
       "      <td>I did not expect this type of book to be in li...</td>\n",
       "      <td>Book</td>\n",
       "      <td>I did not expect this type of book to be in li...</td>\n",
       "    </tr>\n",
       "  </tbody>\n",
       "</table>\n",
       "</div>"
      ],
      "text/plain": [
       "   rating                                         reviewText  \\\n",
       "0       3  Jace Rankin may be short, but he's nothing to ...   \n",
       "1       5  Great short read.  I didn't want to put it dow...   \n",
       "2       3  I'll start by saying this is the first of four...   \n",
       "3       3  Aggie is Angela Lansbury who carries pocketboo...   \n",
       "4       4  I did not expect this type of book to be in li...   \n",
       "\n",
       "                    summary                                             review  \n",
       "0  Entertaining But Average  Jace Rankin may be short, but he's nothing to ...  \n",
       "1   Terrific menage scenes!  Great short read.  I didn't want to put it dow...  \n",
       "2          Snapdragon Alley  I'll start by saying this is the first of four...  \n",
       "3    very light murder cozy  Aggie is Angela Lansbury who carries pocketboo...  \n",
       "4                      Book  I did not expect this type of book to be in li...  "
      ]
     },
     "execution_count": 9,
     "metadata": {},
     "output_type": "execute_result"
    }
   ],
   "source": [
    "df.head()"
   ]
  },
  {
   "cell_type": "code",
   "execution_count": 10,
   "metadata": {},
   "outputs": [
    {
     "data": {
      "text/html": [
       "<div>\n",
       "<style scoped>\n",
       "    .dataframe tbody tr th:only-of-type {\n",
       "        vertical-align: middle;\n",
       "    }\n",
       "\n",
       "    .dataframe tbody tr th {\n",
       "        vertical-align: top;\n",
       "    }\n",
       "\n",
       "    .dataframe thead th {\n",
       "        text-align: right;\n",
       "    }\n",
       "</style>\n",
       "<table border=\"1\" class=\"dataframe\">\n",
       "  <thead>\n",
       "    <tr style=\"text-align: right;\">\n",
       "      <th></th>\n",
       "      <th>rating</th>\n",
       "      <th>review</th>\n",
       "    </tr>\n",
       "  </thead>\n",
       "  <tbody>\n",
       "    <tr>\n",
       "      <th>0</th>\n",
       "      <td>3</td>\n",
       "      <td>Jace Rankin may be short, but he's nothing to ...</td>\n",
       "    </tr>\n",
       "    <tr>\n",
       "      <th>1</th>\n",
       "      <td>5</td>\n",
       "      <td>Great short read.  I didn't want to put it dow...</td>\n",
       "    </tr>\n",
       "    <tr>\n",
       "      <th>2</th>\n",
       "      <td>3</td>\n",
       "      <td>I'll start by saying this is the first of four...</td>\n",
       "    </tr>\n",
       "    <tr>\n",
       "      <th>3</th>\n",
       "      <td>3</td>\n",
       "      <td>Aggie is Angela Lansbury who carries pocketboo...</td>\n",
       "    </tr>\n",
       "    <tr>\n",
       "      <th>4</th>\n",
       "      <td>4</td>\n",
       "      <td>I did not expect this type of book to be in li...</td>\n",
       "    </tr>\n",
       "  </tbody>\n",
       "</table>\n",
       "</div>"
      ],
      "text/plain": [
       "   rating                                             review\n",
       "0       3  Jace Rankin may be short, but he's nothing to ...\n",
       "1       5  Great short read.  I didn't want to put it dow...\n",
       "2       3  I'll start by saying this is the first of four...\n",
       "3       3  Aggie is Angela Lansbury who carries pocketboo...\n",
       "4       4  I did not expect this type of book to be in li..."
      ]
     },
     "execution_count": 10,
     "metadata": {},
     "output_type": "execute_result"
    }
   ],
   "source": [
    "#We can get rid of the these columns now\n",
    "df = df.drop(['reviewText','summary'], axis=1)\n",
    "df.head()"
   ]
  },
  {
   "cell_type": "markdown",
   "metadata": {},
   "source": [
    "### Now, we need to clean the text that we will be using to feed our model with. So, we will define a function and will apply it the text to do its magic."
   ]
  },
  {
   "cell_type": "code",
   "execution_count": 11,
   "metadata": {},
   "outputs": [
    {
     "name": "stdout",
     "output_type": "stream",
     "text": [
      "[nltk_data] Downloading package stopwords to\n",
      "[nltk_data]     C:\\Users\\user\\AppData\\Roaming\\nltk_data...\n",
      "[nltk_data]   Package stopwords is already up-to-date!\n"
     ]
    }
   ],
   "source": [
    "#Imporing Regex and nltk Libraries\n",
    "import re\n",
    "import nltk\n",
    "nltk.download('stopwords')\n",
    "from nltk.corpus import stopwords\n",
    "\n",
    "#Defining all the needed variables to be cleaned\n",
    "\n",
    "replace_by_space_re = re.compile('[/(){}\\[\\]\\|@,;]')\n",
    "bad_symbols_re = re.compile('[^0-9a-z #+_]')\n",
    "remove_num_re = re.compile('[\\d+]')\n",
    "stopwords = set(stopwords.words('english'))"
   ]
  },
  {
   "cell_type": "code",
   "execution_count": 12,
   "metadata": {},
   "outputs": [],
   "source": [
    "#Defining a function that clean the text.\n",
    "\n",
    "def clean_text(text):\n",
    "    text = text.lower()  #lowercase text\n",
    "    text = replace_by_space_re.sub(' ', text) #replace REPLACE_BY_SPACE_RE symbols by space in text\n",
    "    text = text.replace('x', '') #Remove the X values\n",
    "    text = text.replace('\\r',' ').replace('\\n',' ') #Remove the new lines values\n",
    "    text = remove_num_re.sub('', text) #removing numbers\n",
    "    text = bad_symbols_re.sub('', text) # delete symbols which are in BAD_SYMBOLS_RE from text\n",
    "    text = ' '.join(word for word in text.split() if word not in stopwords) # delete stopwords from text\n",
    "    return text"
   ]
  },
  {
   "cell_type": "code",
   "execution_count": 13,
   "metadata": {},
   "outputs": [
    {
     "data": {
      "text/plain": [
       "'jace rankin may short hes nothing mess man hauled saloon undertaker knows hes famous bounty hunter oregon shot man saloon finished years long quest avenge sisters murder trying figure net snottynosed farm boy rescued gang bullies offers money kill man forced ranch reluctantly agrees bring man justice kill outright first needs tell sisters widower newskyla kyle springer bailey riding trails sleeping ground past month trying find jace wants revenge man killed husband took ranch amongst crimes shes keen detour jace wants take realizes shes options hides behind boy persona best tries keep pace confrontation along way gets shot jace discovers kyles kyla come clean whole reason needs scoundrel dead hope hell still help herthe book share touching moments slowblooming romance kyla find good reason fear men hide behind boys persona watching jace slowly pull shell help conquer fears endearing pain real deeplyrooted didnt disappear face seiness neither understandable aversion marriage magically disappear round nookie would man whos drifted town town entire adult life man whos killed fair share men along way feel hed make good husband father theyre walking wounded unique position help need time realize ithowever packed bursting favorite themes old west setting heroine passing male morally ambiguous hero wounded souls road romance kitchen sink certaindistance writing kept getting carried away characters distinct fullyformed couldnt point glaring instances bland telling anything never felt really invested enjoyed quite bit eciting trip watching far away definitely wasnt run alongside add hasty tidy ending book left feeling bit less completely satisfiedi enjoyed book cant say average id still read another book authornote read rereleased ebook version noticed lot formatting errors missing words mentally edit read sentences make sense wasnt bad little distracting entertaining average'"
      ]
     },
     "execution_count": 13,
     "metadata": {},
     "output_type": "execute_result"
    }
   ],
   "source": [
    "#Appling the clean_text function on the body column.\n",
    "df['review'] = df['review'].apply(clean_text)\n",
    "df['review'][0]"
   ]
  },
  {
   "cell_type": "markdown",
   "metadata": {},
   "source": [
    "### At this stage, we will define another column in our data that maps all the ratings score that below 4 to be \"Negative\" and the above to be \"Postive\""
   ]
  },
  {
   "cell_type": "code",
   "execution_count": 14,
   "metadata": {},
   "outputs": [],
   "source": [
    "df['feedback'] = pd.Series(map(lambda x : 'postive' if x >= 4 else 'negative' ,df['rating']))"
   ]
  },
  {
   "cell_type": "code",
   "execution_count": 15,
   "metadata": {},
   "outputs": [
    {
     "data": {
      "text/html": [
       "<div>\n",
       "<style scoped>\n",
       "    .dataframe tbody tr th:only-of-type {\n",
       "        vertical-align: middle;\n",
       "    }\n",
       "\n",
       "    .dataframe tbody tr th {\n",
       "        vertical-align: top;\n",
       "    }\n",
       "\n",
       "    .dataframe thead th {\n",
       "        text-align: right;\n",
       "    }\n",
       "</style>\n",
       "<table border=\"1\" class=\"dataframe\">\n",
       "  <thead>\n",
       "    <tr style=\"text-align: right;\">\n",
       "      <th></th>\n",
       "      <th>rating</th>\n",
       "      <th>review</th>\n",
       "      <th>feedback</th>\n",
       "    </tr>\n",
       "  </thead>\n",
       "  <tbody>\n",
       "    <tr>\n",
       "      <th>0</th>\n",
       "      <td>3</td>\n",
       "      <td>jace rankin may short hes nothing mess man hau...</td>\n",
       "      <td>negative</td>\n",
       "    </tr>\n",
       "    <tr>\n",
       "      <th>1</th>\n",
       "      <td>5</td>\n",
       "      <td>great short read didnt want put read one sitti...</td>\n",
       "      <td>postive</td>\n",
       "    </tr>\n",
       "    <tr>\n",
       "      <th>2</th>\n",
       "      <td>3</td>\n",
       "      <td>ill start saying first four books wasnt epecti...</td>\n",
       "      <td>negative</td>\n",
       "    </tr>\n",
       "    <tr>\n",
       "      <th>3</th>\n",
       "      <td>3</td>\n",
       "      <td>aggie angela lansbury carries pocketbooks inst...</td>\n",
       "      <td>negative</td>\n",
       "    </tr>\n",
       "    <tr>\n",
       "      <th>4</th>\n",
       "      <td>4</td>\n",
       "      <td>epect type book library pleased find price rig...</td>\n",
       "      <td>postive</td>\n",
       "    </tr>\n",
       "    <tr>\n",
       "      <th>5</th>\n",
       "      <td>5</td>\n",
       "      <td>aislinn little girl big dreams death older bro...</td>\n",
       "      <td>postive</td>\n",
       "    </tr>\n",
       "    <tr>\n",
       "      <th>6</th>\n",
       "      <td>2</td>\n",
       "      <td>makings good story unfortunately disappointsit...</td>\n",
       "      <td>negative</td>\n",
       "    </tr>\n",
       "    <tr>\n",
       "      <th>7</th>\n",
       "      <td>4</td>\n",
       "      <td>got like collaborated short stories alot times...</td>\n",
       "      <td>postive</td>\n",
       "    </tr>\n",
       "    <tr>\n",
       "      <th>8</th>\n",
       "      <td>5</td>\n",
       "      <td>loved book hooked series hope kelsey mawell re...</td>\n",
       "      <td>postive</td>\n",
       "    </tr>\n",
       "    <tr>\n",
       "      <th>9</th>\n",
       "      <td>4</td>\n",
       "      <td>thats good thing short sweet tease gives every...</td>\n",
       "      <td>postive</td>\n",
       "    </tr>\n",
       "  </tbody>\n",
       "</table>\n",
       "</div>"
      ],
      "text/plain": [
       "   rating                                             review  feedback\n",
       "0       3  jace rankin may short hes nothing mess man hau...  negative\n",
       "1       5  great short read didnt want put read one sitti...   postive\n",
       "2       3  ill start saying first four books wasnt epecti...  negative\n",
       "3       3  aggie angela lansbury carries pocketbooks inst...  negative\n",
       "4       4  epect type book library pleased find price rig...   postive\n",
       "5       5  aislinn little girl big dreams death older bro...   postive\n",
       "6       2  makings good story unfortunately disappointsit...  negative\n",
       "7       4  got like collaborated short stories alot times...   postive\n",
       "8       5  loved book hooked series hope kelsey mawell re...   postive\n",
       "9       4  thats good thing short sweet tease gives every...   postive"
      ]
     },
     "execution_count": 15,
     "metadata": {},
     "output_type": "execute_result"
    }
   ],
   "source": [
    "df.head(10)"
   ]
  },
  {
   "cell_type": "code",
   "execution_count": 16,
   "metadata": {},
   "outputs": [
    {
     "data": {
      "text/html": [
       "<div>\n",
       "<style scoped>\n",
       "    .dataframe tbody tr th:only-of-type {\n",
       "        vertical-align: middle;\n",
       "    }\n",
       "\n",
       "    .dataframe tbody tr th {\n",
       "        vertical-align: top;\n",
       "    }\n",
       "\n",
       "    .dataframe thead th {\n",
       "        text-align: right;\n",
       "    }\n",
       "</style>\n",
       "<table border=\"1\" class=\"dataframe\">\n",
       "  <thead>\n",
       "    <tr style=\"text-align: right;\">\n",
       "      <th></th>\n",
       "      <th>rating</th>\n",
       "    </tr>\n",
       "  </thead>\n",
       "  <tbody>\n",
       "    <tr>\n",
       "      <th>count</th>\n",
       "      <td>12000.000000</td>\n",
       "    </tr>\n",
       "    <tr>\n",
       "      <th>mean</th>\n",
       "      <td>3.250000</td>\n",
       "    </tr>\n",
       "    <tr>\n",
       "      <th>std</th>\n",
       "      <td>1.421619</td>\n",
       "    </tr>\n",
       "    <tr>\n",
       "      <th>min</th>\n",
       "      <td>1.000000</td>\n",
       "    </tr>\n",
       "    <tr>\n",
       "      <th>25%</th>\n",
       "      <td>2.000000</td>\n",
       "    </tr>\n",
       "    <tr>\n",
       "      <th>50%</th>\n",
       "      <td>3.500000</td>\n",
       "    </tr>\n",
       "    <tr>\n",
       "      <th>75%</th>\n",
       "      <td>4.250000</td>\n",
       "    </tr>\n",
       "    <tr>\n",
       "      <th>max</th>\n",
       "      <td>5.000000</td>\n",
       "    </tr>\n",
       "  </tbody>\n",
       "</table>\n",
       "</div>"
      ],
      "text/plain": [
       "             rating\n",
       "count  12000.000000\n",
       "mean       3.250000\n",
       "std        1.421619\n",
       "min        1.000000\n",
       "25%        2.000000\n",
       "50%        3.500000\n",
       "75%        4.250000\n",
       "max        5.000000"
      ]
     },
     "execution_count": 16,
     "metadata": {},
     "output_type": "execute_result"
    }
   ],
   "source": [
    "#checking and inspecting our data after clensing stage \n",
    "df.describe()"
   ]
  },
  {
   "cell_type": "code",
   "execution_count": 17,
   "metadata": {},
   "outputs": [
    {
     "data": {
      "text/html": [
       "<div>\n",
       "<style scoped>\n",
       "    .dataframe tbody tr th:only-of-type {\n",
       "        vertical-align: middle;\n",
       "    }\n",
       "\n",
       "    .dataframe tbody tr th {\n",
       "        vertical-align: top;\n",
       "    }\n",
       "\n",
       "    .dataframe thead th {\n",
       "        text-align: right;\n",
       "    }\n",
       "</style>\n",
       "<table border=\"1\" class=\"dataframe\">\n",
       "  <thead>\n",
       "    <tr style=\"text-align: right;\">\n",
       "      <th></th>\n",
       "      <th>feedback</th>\n",
       "    </tr>\n",
       "  </thead>\n",
       "  <tbody>\n",
       "    <tr>\n",
       "      <th>postive</th>\n",
       "      <td>6000</td>\n",
       "    </tr>\n",
       "    <tr>\n",
       "      <th>negative</th>\n",
       "      <td>6000</td>\n",
       "    </tr>\n",
       "  </tbody>\n",
       "</table>\n",
       "</div>"
      ],
      "text/plain": [
       "          feedback\n",
       "postive       6000\n",
       "negative      6000"
      ]
     },
     "execution_count": 17,
     "metadata": {},
     "output_type": "execute_result"
    }
   ],
   "source": [
    "pd.DataFrame(df['feedback'].value_counts())"
   ]
  },
  {
   "cell_type": "code",
   "execution_count": 18,
   "metadata": {},
   "outputs": [
    {
     "data": {
      "image/png": "[encoded data removed]",
      "text/plain": [
       "<Figure size 720x360 with 1 Axes>"
      ]
     },
     "metadata": {
      "needs_background": "light"
     },
     "output_type": "display_data"
    }
   ],
   "source": [
    "pd.DataFrame(df['feedback'].value_counts()).plot.bar(figsize=(10,5));"
   ]
  },
  {
   "cell_type": "markdown",
   "metadata": {},
   "source": [
    "<a id=\"SP\"><a/>\n",
    "# Splitting Data & Data modeling"
   ]
  },
  {
   "cell_type": "code",
   "execution_count": 19,
   "metadata": {},
   "outputs": [],
   "source": [
    "from sklearn.model_selection import train_test_split"
   ]
  },
  {
   "cell_type": "code",
   "execution_count": 20,
   "metadata": {},
   "outputs": [],
   "source": [
    "X = df['review']\n",
    "y = df['feedback']\n",
    "\n",
    "X_train, X_test, y_train, y_test = train_test_split(X, y, test_size=0.3, random_state=2)"
   ]
  },
  {
   "cell_type": "code",
   "execution_count": 30,
   "metadata": {},
   "outputs": [],
   "source": [
    "#importing classifier, transformers and metrics\n",
    "from sklearn.feature_extraction.text import TfidfVectorizer\n",
    "from sklearn.ensemble import RandomForestClassifier\n",
    "from sklearn.pipeline import Pipeline\n",
    "from sklearn.metrics import accuracy_score"
   ]
  },
  {
   "cell_type": "code",
   "execution_count": 31,
   "metadata": {},
   "outputs": [
    {
     "name": "stdout",
     "output_type": "stream",
     "text": [
      "0.8319444444444445\n"
     ]
    }
   ],
   "source": [
    "forest_model = Pipeline([('tfidf', TfidfVectorizer(stop_words=stopwords)),\n",
    "                         ('MLF', RandomForestClassifier(n_estimators=500,criterion='gini',random_state=1))])                        \n",
    "\n",
    "forest_model.fit(X_train, y_train)\n",
    "y_pred = forest_model.predict(X_test)\n",
    "print(accuracy_score(y_test,y_pred))"
   ]
  },
  {
   "cell_type": "code",
   "execution_count": 23,
   "metadata": {},
   "outputs": [
    {
     "name": "stdout",
     "output_type": "stream",
     "text": [
      "['negative' 'postive' 'postive' 'negative' 'postive' 'negative' 'postive'\n",
      " 'postive' 'postive' 'postive' 'negative']\n",
      "7104     writing terrible grammer terrible plot ridicul...\n",
      "5878     love book cents short story good love caracter...\n",
      "7311     yes question izzy many warnings go woods persi...\n",
      "11984    guess im odd man book much bad luck happen two...\n",
      "7959     lyall brothers shifters alphas gorgeous identi...\n",
      "2125     free read know dont even bother time waste rea...\n",
      "10699    cant seem get enough happily ever books much p...\n",
      "4275     love susan mallerys recent books try fools gol...\n",
      "5000     surviving least readsit still one favourite bo...\n",
      "8143     probably good surviving ride briefcase hinged ...\n",
      "3575     pretty average read writing style rather stilt...\n",
      "Name: review, dtype: object\n"
     ]
    }
   ],
   "source": [
    "print(y_pred[:11])\n",
    "print(X_test[:11])"
   ]
  }
 ],
 "metadata": {
  "kernelspec": {
   "display_name": "Python 3",
   "language": "python",
   "name": "python3"
  },
  "language_info": {
   "codemirror_mode": {
    "name": "ipython",
    "version": 3
   },
   "file_extension": ".py",
   "mimetype": "text/x-python",
   "name": "python",
   "nbconvert_exporter": "python",
   "pygments_lexer": "ipython3",
   "version": "3.7.0"
  }
 },
 "nbformat": 4,
 "nbformat_minor": 2
}
